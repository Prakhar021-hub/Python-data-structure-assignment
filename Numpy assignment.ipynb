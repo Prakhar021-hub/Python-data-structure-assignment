{
 "cells": [
  {
   "cell_type": "markdown",
   "id": "e5498e36-986c-40c2-aa1a-a4788903f7ca",
   "metadata": {},
   "source": [
    "# Theoretical Questions:"
   ]
  },
  {
   "cell_type": "code",
   "execution_count": 1,
   "id": "b945d5a2-bfa4-4933-9a0d-f8c9df93e611",
   "metadata": {},
   "outputs": [],
   "source": [
    "import numpy as np"
   ]
  },
  {
   "cell_type": "raw",
   "id": "861f4c32-09e9-4ac0-a530-67a321481c54",
   "metadata": {},
   "source": [
    "Q1 explain the purpose and advantage of numpy in scientific computing and data analysis. How does it enhance python's capability for numerical operations.\n",
    "Ans.  Numpy is a powerful library in Python that provides support for large, multi-dimensional arrays and matrices, along with a collection of mathematical functions to operate on them. It is one of the fundamental packages for scientific computing and data analysis in Python, due to its -\n",
    "\n",
    "1) Efficient Memory Management and Performance\n",
    "NumPy arrays are more efficient than Python's built-in lists in terms of memory usage. NumPy stores data in contiguous blocks of memory, allowing faster access and manipulation of data.The reason behind Numpy arrays being faster than python built-in list functions is that Numpy uses low-level C programming language.\n",
    "\n",
    "2)2. Array-Based Computations\n",
    "As we all know that arrays are faster than any other datatypes in python programming. Numpy provides the ndarray object, which allows the creation of arrays that can be of any dimension (1D, 2D, 3D, etc.). These arrays can hold values of the same data type (integers, floats, etc.), making it more efficient for numerical operations.\n",
    "\n",
    "3) Mathematical and Statistical Functions\n",
    "NumPy includes a wide range of built-in mathematical and statistical functions for array operations (e.g., mean, median, standard deviation, linear algebra functions).Instead of writing custom code for every mathematical operation, NumPy provides ready-to-use functions that are well-optimized."
   ]
  },
  {
   "cell_type": "raw",
   "id": "81f63bc0-cc58-45f8-a000-f0ce5c33e9eb",
   "metadata": {},
   "source": [
    "Q2 Compare and contrast np.mean() and np.average() functions in NumPy. When would you use one over the  other?\n",
    "Ans. Both np.mean() and np.average() are functions in NumPy used to compute the average of an array, but they have distinct features and use cases.\n",
    "\n",
    "np.mean():\n",
    "--Calculates the arithmetic mean (average) of an array by summing up all the elements and dividing by the number of elements.\n",
    "--Does not support weighting. It calculates the mean as the sum of elements divided by their count, regardless of the significance of individual elements.Whereas\n",
    "np.average():\n",
    "--Calculates the weighted average of an array. If no weights are provided, it works just like np.mean() (i.e., it calculates the arithmetic mean).\n",
    "--Allows you to pass a weights argument, which assigns different importance to different elements in the array. Elements with larger weights contribute more to the average.\n"
   ]
  },
  {
   "cell_type": "raw",
   "id": "3921e387-7ba9-4ee9-b3ab-60e83543000c",
   "metadata": {},
   "source": [
    "Q3 Describe the methods for reversing a NumPy array along different axes. Provide examples for 1D and 2D  arrays.\n",
    "Ans. \n",
    "1. Reversing a 1D NumPy Array\n",
    "\n",
    "For a 1D array, reversing the array is simple and involves flipping the elements in the opposite order.\n",
    "Using slicing: The easiest and most common way to reverse an array is to use slicing with a step of -1.examples are discused be;ow\n",
    "\n",
    "2. Reversing a 2D NumPy Array\n",
    "For a 2D array, you can reverse it along different axes (rows or columns), depending on your requirements.\n",
    "Using slicing: You can reverse the array along specific axes (rows or columns) using slicing."
   ]
  },
  {
   "cell_type": "code",
   "execution_count": 2,
   "id": "94e674aa-8af1-4fd8-a4ba-8ace128183cf",
   "metadata": {},
   "outputs": [
    {
     "data": {
      "text/plain": [
       "array([5, 4, 3, 2, 1])"
      ]
     },
     "execution_count": 2,
     "metadata": {},
     "output_type": "execute_result"
    }
   ],
   "source": [
    "## reversing a 1d array\n",
    "\n",
    "one_arr=np.array([1,2,3,4,5])\n",
    "one_arr[::-1]"
   ]
  },
  {
   "cell_type": "code",
   "execution_count": 3,
   "id": "4c389d35-3def-424e-aa9b-fabaaf90031c",
   "metadata": {},
   "outputs": [
    {
     "data": {
      "text/plain": [
       "array([[4, 5, 6],\n",
       "       [1, 2, 3]])"
      ]
     },
     "execution_count": 3,
     "metadata": {},
     "output_type": "execute_result"
    }
   ],
   "source": [
    "## reversing a 2d array\n",
    "\n",
    "#rowwise\n",
    "two_arr=np.array([[1,2,3],[4,5,6]])\n",
    "two_arr[::-1, :]"
   ]
  },
  {
   "cell_type": "code",
   "execution_count": 4,
   "id": "49f4e809-5d67-41c1-aaff-16764df93967",
   "metadata": {},
   "outputs": [
    {
     "data": {
      "text/plain": [
       "array([[3, 2, 1],\n",
       "       [6, 5, 4]])"
      ]
     },
     "execution_count": 4,
     "metadata": {},
     "output_type": "execute_result"
    }
   ],
   "source": [
    "## columnwise\n",
    "two_arr=np.array([[1,2,3],[4,5,6]])\n",
    "two_arr[:,::-1]"
   ]
  },
  {
   "cell_type": "raw",
   "id": "8aeccd0b-355c-4bf9-b5d8-b1afb6ab6eaa",
   "metadata": {},
   "source": [
    "Q4. How can you determine the data type of elements in a NumPy array? Discuss the importance of data types  in memory management and performance.\n",
    "Ans. How can you determine the data type of elements in a NumPy array? Discuss the importance of data types\n",
    "in memory management and performance.\n",
    "Memory Management\n",
    "Unlike Python’s native lists, which store data in a more flexible (but less efficient) way, NumPy arrays store data in contiguous memory blocks where each element has a fixed size determined by the data type. This allows NumPy to use less memory for the same data compared to Python lists.\n",
    " Using smaller data types (e.g., int8 or float32) can save memory, especially when dealing with large datasets. For example, using 32-bit integers or floats for a dataset that doesn't require higher precision (like 64-bit) can significantly reduce memory consumption.\n",
    "Performance Optimization\n",
    "NumPy is optimized for performing operations on arrays with fixed-size data types. Operations on smaller or simpler data types (e.g., int32 vs. int64) can be faster because they involve fewer CPU cycles and use less memory bandwidth.Using fixed data types allows NumPy to optimize operations through vectorization and efficient memory usage, which significantly boosts performance."
   ]
  },
  {
   "cell_type": "code",
   "execution_count": 5,
   "id": "61ed3ba9-ccda-478f-b894-bd8bf163364e",
   "metadata": {},
   "outputs": [
    {
     "data": {
      "text/plain": [
       "dtype('int32')"
      ]
     },
     "execution_count": 5,
     "metadata": {},
     "output_type": "execute_result"
    }
   ],
   "source": [
    "## changing dtype of the array\n",
    "\n",
    "data=np.array([1,2,3])\n",
    "data.dtype"
   ]
  },
  {
   "cell_type": "code",
   "execution_count": 6,
   "id": "204edbff-7cc9-463e-98b2-cff8f0dc44b4",
   "metadata": {},
   "outputs": [
    {
     "data": {
      "text/plain": [
       "array([1., 2., 3.])"
      ]
     },
     "execution_count": 6,
     "metadata": {},
     "output_type": "execute_result"
    }
   ],
   "source": [
    "## changing dtype of the array\n",
    "\n",
    "data=data.astype(float)\n",
    "data ## converted into a float value"
   ]
  },
  {
   "cell_type": "markdown",
   "id": "b4ec2e87-2650-4ab6-9020-09737e582bfb",
   "metadata": {},
   "source": [
    "Q5. Define ndarrays in NumPy and explain their key features. How do they differ from standard Python lists?\n",
    "Ans. ndarray (N-dimensional array) is the fundamental data structure used to represent multi-dimensional arrays of fixed-size elements, all of which are of the same data type. It is highly efficient for numerical operations and forms the core of scientific computing in Python.\n",
    "\n",
    "Some Features of ndarray\n",
    "-- Multi-dimensional: An ndarray can represent arrays with any number of dimensions (1D, 2D, 3D, etc.).\n",
    "-- Efficient Memory Layout: ndarray stores elements in contiguous blocks of memory, ensuring efficient access and manipulation.\n",
    "--Homogeneous Data Type:All elements in an ndarray must be of the same data type (e.g., integers, floats). This makes operations faster and more memory-efficient compared to Python lists, which can hold mixed data types.\n",
    "\n",
    "difference between ndarray and python list\n",
    "ndarray:\n",
    "--Homogeneous (all elements are of the same type)\tHeterogeneous (can contain mixed types)\n",
    "--\tFixed size after creation\t\n",
    "--\tFast and memory-efficient due to contiguous storage and vectorized operations\t\n",
    "--Built-in support for multi-dimensional arrays\t\n",
    "pyhton list:\n",
    "--Heterogeneous (can contain mixed types)\n",
    "--Dynamically resizable\n",
    "--Slower for numerical operations, especially with ------large datasets\n",
    "--No native support for multi\n"
   ]
  },
  {
   "cell_type": "raw",
   "id": "2d8ff98b-c15a-43c9-8740-5026ca87ae71",
   "metadata": {},
   "source": [
    "Q6.Analyze the performance benefits of NumPy arrays over Python lists for large-scale numerical operations.\n",
    "Ans. \n",
    "Key Performance Benefits of NumPy Arrays Over Python Lists:\n",
    "1. Memory Efficiency\n",
    "Fixed Data Types:\n",
    "NumPy Arrays: All elements in a NumPy array must be of the same data type, which allows NumPy to store elements in contiguous memory blocks. This results in much less memory overhead compared to Python lists.\n",
    "\n",
    "Python Lists: Python lists are more flexible but less memory-efficient because they store references (pointers) to objects, which can be of any type. This introduces additional memory overhead, especially when dealing with large datasets.\n",
    "\n",
    "2. Faster Numerical Computations\n",
    "Vectorized Operations:\n",
    "NumPy Arrays: NumPy enables vectorized operations, meaning that mathematical operations on arrays can be applied element-wise without the need for explicit loops. These operations are implemented in optimized C and Fortran libraries, making them significantly faster than looping over Python lists.\n",
    "\n",
    "Python Lists: Operations on Python lists require explicit loops to iterate through elements, which incurs significant overhead due to Python's slower interpretation of code compared to NumPy's compiled backend.\n",
    "\n",
    "3. Efficiency with Large-Scale Data\n",
    "Handling Large Datasets:\n",
    "NumPy Arrays: NumPy is designed to handle large-scale datasets efficiently. Operations on large arrays (e.g., 1 million elements or more) can be performed in a fraction of the time it takes with Python lists, both in terms of memory usage and computational performance.\n",
    "\n",
    "Python Lists: Handling large datasets in Python lists not only consumes more memory but also significantly slows down operations due to the inherent inefficiencies in memory allocation, type checking, and looping."
   ]
  },
  {
   "cell_type": "raw",
   "id": "f6b3eb1b-67a6-412b-aa7d-a051068f9f0b",
   "metadata": {},
   "source": [
    "Q7.Compare vstack() and hstack() functions in NumPy. Provide examples demonstrating their usage and  output.\n",
    "Ans.In NumPy, vstack() and hstack() are two functions used to stack arrays vertically and horizontally, respectively. These functions are helpful when combining arrays along specific axes.\n",
    "\n",
    "vstack() (Vertical Stack)\n",
    " Stacks arrays vertically (row-wise). This means that it combines multiple arrays by adding them as new rows, so the resulting array will have more rows.\n",
    " The arrays being stacked must have the same number of columns (i.e., the same width or number of elements along axis 1).\n",
    "\n",
    "hstack() (Horizontal Stack)\n",
    " Stacks arrays horizontally (column-wise). This means that it concatenates arrays by adding them as new columns, so the resulting array will have more columns.\n",
    " The arrays being stacked must have the same number of rows (i.e., the same height or number of elements along axis 0)."
   ]
  },
  {
   "cell_type": "code",
   "execution_count": 7,
   "id": "34a59850-1f15-44ae-b51a-2caf624f8742",
   "metadata": {},
   "outputs": [
    {
     "data": {
      "text/plain": [
       "array([[1, 2, 3],\n",
       "       [4, 5, 6]])"
      ]
     },
     "execution_count": 7,
     "metadata": {},
     "output_type": "execute_result"
    }
   ],
   "source": [
    "#vstack()  on 1d array\n",
    "arr1=np.array([1,2,3])\n",
    "arr2=np.array([4,5,6])\n",
    "np.vstack((arr1,arr2))"
   ]
  },
  {
   "cell_type": "code",
   "execution_count": 8,
   "id": "16dccb1e-4b33-482d-bbab-fecd4e77f31f",
   "metadata": {},
   "outputs": [
    {
     "data": {
      "text/plain": [
       "array([[ 1,  2,  3,  4,  5,  6],\n",
       "       [ 8,  4,  7, 24, 45, 78]])"
      ]
     },
     "execution_count": 8,
     "metadata": {},
     "output_type": "execute_result"
    }
   ],
   "source": [
    "# hstack() 0n 2d array\n",
    "arr1=np.array([[1,2,3], [8,4,7]])\n",
    "arr2=np.array([[4,5,6],[24,45,78]])\n",
    "np.hstack((arr1,arr2))"
   ]
  },
  {
   "cell_type": "raw",
   "id": "15498151-c946-47bb-adc4-6bbefd2e0b7c",
   "metadata": {},
   "source": [
    "Q8.Explain the differences between fliplr() and flipud() methods in NumPy, including their effects on various  array dimensions. \n",
    "Ans.In NumPy, fliplr() and flipud() are functions that flip (or reverse) the contents of an array along specific axes. Their names reflect their behavior: fliplr() flips arrays left-to-right (horizontally), while flipud() flips arrays upside-down (vertically). Let's break down their differences and effects on various array dimensions.\n",
    "\n",
    "1. fliplr() (Flip Left-to-Right)\n",
    " This function reverses the elements of an array horizontally along the second axis (axis 1). In a 2D array, it swaps the columns, flipping the array from left to right.\n",
    "fliplr() can only be applied to arrays with two or more dimensions (i.e., at least 2D arrays). Applying it to 1D arrays will result in an error.\n",
    "\n",
    "2. flipud() (Flip Up-to-Down)\n",
    "This function reverses the elements of an array vertically along the first axis (axis 0). In a 2D array, it swaps the rows, flipping the array from top to bottom.\n",
    "flipud() can be applied to arrays with any number of dimensions, including 1D arrays."
   ]
  },
  {
   "cell_type": "code",
   "execution_count": 9,
   "id": "e7d627b9-a052-4bda-92d2-b55bac142194",
   "metadata": {},
   "outputs": [
    {
     "data": {
      "text/plain": [
       "array([[3, 2, 1],\n",
       "       [6, 5, 4]])"
      ]
     },
     "execution_count": 9,
     "metadata": {},
     "output_type": "execute_result"
    }
   ],
   "source": [
    " #fliplr() (Flip Left-to-Right)\n",
    "\n",
    "arr= np.array([[1, 2, 3],[4, 5, 6]])\n",
    "np.fliplr(arr)"
   ]
  },
  {
   "cell_type": "code",
   "execution_count": 10,
   "id": "577d6c5f-8e9b-4524-9513-9e15d232a60a",
   "metadata": {},
   "outputs": [
    {
     "data": {
      "text/plain": [
       "array([[4, 5, 6],\n",
       "       [1, 2, 3]])"
      ]
     },
     "execution_count": 10,
     "metadata": {},
     "output_type": "execute_result"
    }
   ],
   "source": [
    "# flipud() (Flip Up-to-Down)\n",
    "\n",
    "arr= np.array([[1, 2, 3],[4, 5, 6]])\n",
    "np.flipud(arr)"
   ]
  },
  {
   "cell_type": "raw",
   "id": "e34f2eb4-3f04-410f-bf34-30d5e5e90721",
   "metadata": {},
   "source": [
    "Q9, Discuss the functionality of the array_split() method in NumPy. How does it handle uneven splits?\n",
    "Ans.The array_split() method in NumPy is a powerful function used to split an array into multiple sub-arrays. It is particularly useful for dividing arrays into chunks when you need to process data in smaller pieces or manage data efficiently.array_split() splits an array into multiple sub-arrays along a specified axis. Unlike split(), which requires the number of splits to evenly divide the array, array_split() allows for uneven splits and is more flexible.\n"
   ]
  },
  {
   "cell_type": "code",
   "execution_count": 11,
   "id": "abfc1118-45e3-4397-b317-3d2f4bac9d5b",
   "metadata": {},
   "outputs": [
    {
     "data": {
      "text/plain": [
       "[array([1, 2, 3]), array([4, 5]), array([6, 7]), array([8, 9])]"
      ]
     },
     "execution_count": 11,
     "metadata": {},
     "output_type": "execute_result"
    }
   ],
   "source": [
    "arr = np.array([1, 2, 3, 4, 5, 6, 7, 8, 9])\n",
    "\n",
    "sub_arrays = np.array_split(arr, 4)\n",
    "sub_arrays"
   ]
  },
  {
   "cell_type": "raw",
   "id": "53fdf4ef-abb2-4501-9ec2-ef8444d0616e",
   "metadata": {},
   "source": [
    "Q10. Explain the concepts of vectorization and broadcasting in NumPy. How do they contribute to efficient array  operations?\n",
    "Ans.Vectorization and broadcasting are two key concepts in NumPy that contribute significantly to the efficiency and performance of array operations. They enable efficient computation and manipulation of large arrays without the need for explicit loops. \n",
    "\n",
    "Vectorization\n",
    "\n",
    "Vectorization refers to the process of replacing explicit loops with NumPy array operations. Instead of iterating over array elements with a Python loop, you perform operations on whole arrays at once. NumPy’s internal implementation uses optimized C and Fortran code that leverages low-level parallelism and hardware acceleration."
   ]
  },
  {
   "cell_type": "code",
   "execution_count": 12,
   "id": "2e8ebc86-4185-4d9b-b2a2-a30922d48c2f",
   "metadata": {},
   "outputs": [
    {
     "data": {
      "text/plain": [
       "array([ 6,  8, 10, 12])"
      ]
     },
     "execution_count": 12,
     "metadata": {},
     "output_type": "execute_result"
    }
   ],
   "source": [
    "a = np.array([1, 2, 3, 4])\n",
    "b = np.array([5, 6, 7, 8])\n",
    "\n",
    "# Vectorized addition\n",
    "a + b\n"
   ]
  },
  {
   "cell_type": "raw",
   "id": "1aa28e0f-f8f6-4a1a-8ecf-3c30543f42e1",
   "metadata": {},
   "source": [
    "Broadcasting\n",
    "Broadcasting is a set of rules used by NumPy to perform arithmetic operations on arrays of different shapes. It allows NumPy to handle arrays with different sizes and dimensions by automatically expanding smaller arrays to match the shape of larger arrays during operations."
   ]
  },
  {
   "cell_type": "code",
   "execution_count": 13,
   "id": "1c975567-1ccb-4555-8a3a-ffdee5303805",
   "metadata": {},
   "outputs": [
    {
     "data": {
      "text/plain": [
       "array([[11, 22, 33],\n",
       "       [14, 25, 36]])"
      ]
     },
     "execution_count": 13,
     "metadata": {},
     "output_type": "execute_result"
    }
   ],
   "source": [
    "a = np.array([[1, 2, 3], [4, 5, 6]])\n",
    "b = np.array([10, 20, 30])\n",
    "\n",
    "# Broadcasting operation\n",
    "a + b"
   ]
  },
  {
   "cell_type": "markdown",
   "id": "1231ff53-1c7c-4ce7-92bf-f8ef6e1e9171",
   "metadata": {},
   "source": [
    "# Practical Questions:"
   ]
  },
  {
   "cell_type": "code",
   "execution_count": 14,
   "id": "daaac1e6-a441-49ec-a3cb-6220385c0d60",
   "metadata": {},
   "outputs": [
    {
     "data": {
      "text/plain": [
       "array([[93, 31, 33],\n",
       "       [53,  6, 74],\n",
       "       [84, 66, 28]])"
      ]
     },
     "execution_count": 14,
     "metadata": {},
     "output_type": "execute_result"
    }
   ],
   "source": [
    "#Q1. Create a 3x3 NumPy array with random integers between 1 and 100. Then, interchange its rows and columns\n",
    "#Ans...\n",
    "arr=np.random.randint(1,100, (3,3))\n",
    "arr"
   ]
  },
  {
   "cell_type": "code",
   "execution_count": 15,
   "id": "6f2aa50d-94dc-471a-916f-256c3fb678b5",
   "metadata": {},
   "outputs": [
    {
     "data": {
      "text/plain": [
       "array([[93, 53, 84],\n",
       "       [31,  6, 66],\n",
       "       [33, 74, 28]])"
      ]
     },
     "execution_count": 15,
     "metadata": {},
     "output_type": "execute_result"
    }
   ],
   "source": [
    "arr.T"
   ]
  },
  {
   "cell_type": "code",
   "execution_count": 16,
   "id": "11c16939-1561-48b3-b3ba-8e226f79af25",
   "metadata": {},
   "outputs": [
    {
     "data": {
      "text/plain": [
       "array([1, 9, 2, 1, 7, 7, 4, 4, 1, 9])"
      ]
     },
     "execution_count": 16,
     "metadata": {},
     "output_type": "execute_result"
    }
   ],
   "source": [
    "#Q2.  Generate a 1D NumPy array with 10 elements. Reshape it into a 2x5 array, then into a 5x2 array.\n",
    "#sol.\n",
    "arr1=np.random.randint(1,10,10)\n",
    "arr1"
   ]
  },
  {
   "cell_type": "code",
   "execution_count": 17,
   "id": "329391d2-34e0-4f53-afd1-98a5dc85af96",
   "metadata": {},
   "outputs": [
    {
     "data": {
      "text/plain": [
       "array([[1, 9, 2, 1, 7],\n",
       "       [7, 4, 4, 1, 9]])"
      ]
     },
     "execution_count": 17,
     "metadata": {},
     "output_type": "execute_result"
    }
   ],
   "source": [
    "arr1.reshape((2,5))"
   ]
  },
  {
   "cell_type": "code",
   "execution_count": 18,
   "id": "8fb5efc6-99bf-44e2-9f20-b11300ecdda8",
   "metadata": {},
   "outputs": [
    {
     "data": {
      "text/plain": [
       "array([[1, 9],\n",
       "       [2, 1],\n",
       "       [7, 7],\n",
       "       [4, 4],\n",
       "       [1, 9]])"
      ]
     },
     "execution_count": 18,
     "metadata": {},
     "output_type": "execute_result"
    }
   ],
   "source": [
    "arr1.reshape((5,2))"
   ]
  },
  {
   "cell_type": "code",
   "execution_count": 19,
   "id": "b8dd2a87-5dc8-411d-87e0-ffa8c840110a",
   "metadata": {},
   "outputs": [
    {
     "data": {
      "text/plain": [
       "array([[5., 3., 1., 2.],\n",
       "       [8., 6., 3., 2.],\n",
       "       [2., 2., 3., 3.],\n",
       "       [7., 3., 6., 1.]])"
      ]
     },
     "execution_count": 19,
     "metadata": {},
     "output_type": "execute_result"
    }
   ],
   "source": [
    "# Q3.  Create a 4x4 NumPy array with random float values. Add a border of zeros around it, resulting in a 6x6 array.\n",
    "## sol.\n",
    "arr2=np.random.randint(1,9, (4,4)).astype(float)\n",
    "arr2"
   ]
  },
  {
   "cell_type": "code",
   "execution_count": 20,
   "id": "346d0505-9fc1-4cdf-893b-2f72dbc256d2",
   "metadata": {},
   "outputs": [
    {
     "data": {
      "text/plain": [
       "array([[0., 0., 0., 0., 0., 0.],\n",
       "       [0., 5., 3., 1., 2., 0.],\n",
       "       [0., 8., 6., 3., 2., 0.],\n",
       "       [0., 2., 2., 3., 3., 0.],\n",
       "       [0., 7., 3., 6., 1., 0.],\n",
       "       [0., 0., 0., 0., 0., 0.]])"
      ]
     },
     "execution_count": 20,
     "metadata": {},
     "output_type": "execute_result"
    }
   ],
   "source": [
    "bordered_array = np.pad(arr2, pad_width=1, mode='constant', constant_values=0)\n",
    "bordered_array"
   ]
  },
  {
   "cell_type": "code",
   "execution_count": 21,
   "id": "2fd0023b-4dac-4d5c-9e39-82b8415ea182",
   "metadata": {},
   "outputs": [
    {
     "data": {
      "text/plain": [
       "array([10, 15, 20, 25, 30, 35, 40, 45, 50, 55])"
      ]
     },
     "execution_count": 21,
     "metadata": {},
     "output_type": "execute_result"
    }
   ],
   "source": [
    "#Q4. Using NumPy, create an array of integers from 10 to 60 with a step of 5.\n",
    "np.arange(10,60, 5)"
   ]
  },
  {
   "cell_type": "code",
   "execution_count": 22,
   "id": "ade9bd27-2aa8-4822-955f-7da79329ec8d",
   "metadata": {},
   "outputs": [
    {
     "data": {
      "text/plain": [
       "'PYTHON'"
      ]
     },
     "execution_count": 22,
     "metadata": {},
     "output_type": "execute_result"
    }
   ],
   "source": [
    "#Q5. . Create a NumPy array of strings ['python', 'numpy', 'pandas']. Apply different case transformations\n",
    "#(uppercase, lowercase, title case, etc.) to each element.\n",
    "\n",
    "arr3=np.array(['python', 'numpy', 'pandas'])\n",
    "arr3[0].upper()\n"
   ]
  },
  {
   "cell_type": "code",
   "execution_count": 23,
   "id": "60f587e4-3a3f-473d-87a1-b5ead26d58e3",
   "metadata": {},
   "outputs": [
    {
     "data": {
      "text/plain": [
       "'numpy'"
      ]
     },
     "execution_count": 23,
     "metadata": {},
     "output_type": "execute_result"
    }
   ],
   "source": [
    "arr3[1].lower()"
   ]
  },
  {
   "cell_type": "code",
   "execution_count": 24,
   "id": "fd43ad9f-5af0-4637-b857-459e02cf0d20",
   "metadata": {},
   "outputs": [
    {
     "data": {
      "text/plain": [
       "'Pandas'"
      ]
     },
     "execution_count": 24,
     "metadata": {},
     "output_type": "execute_result"
    }
   ],
   "source": [
    "arr3[2].title()"
   ]
  },
  {
   "cell_type": "code",
   "execution_count": 25,
   "id": "ed50a404-7a73-4a7e-b4e8-411baead6dc5",
   "metadata": {},
   "outputs": [
    {
     "data": {
      "text/plain": [
       "'Python'"
      ]
     },
     "execution_count": 25,
     "metadata": {},
     "output_type": "execute_result"
    }
   ],
   "source": [
    "arr3[0].capitalize()"
   ]
  },
  {
   "cell_type": "code",
   "execution_count": 26,
   "id": "7598528a-fe15-468e-89b1-48da5aeb986b",
   "metadata": {},
   "outputs": [
    {
     "data": {
      "text/plain": [
       "array(['p e n c i l', 'b o o k s', 's h a r p n e r', 'r u l l e r'],\n",
       "      dtype='<U15')"
      ]
     },
     "execution_count": 26,
     "metadata": {},
     "output_type": "execute_result"
    }
   ],
   "source": [
    "#Q6  Generate a NumPy array of words. Insert a space between each character of every word in the array\n",
    "#sol. \n",
    "arr4=np.array(['pencil', 'books', 'sharpner', 'ruller'])\n",
    "spaced_array=np.array([' '.join(i) for i in arr4])\n",
    "spaced_array"
   ]
  },
  {
   "cell_type": "code",
   "execution_count": 27,
   "id": "30d67553-6872-4e0a-b2b5-9de2c4636412",
   "metadata": {},
   "outputs": [],
   "source": [
    "#Create two 2D NumPy arrays and perform element-wise addition, subtraction, multiplication, and division\n",
    "#sol.\n",
    "a1=np.array([[1,2,3], [4,5,6]])\n",
    "a2=np.array([[3,6,13], [14,51,2]])"
   ]
  },
  {
   "cell_type": "code",
   "execution_count": 28,
   "id": "bd97843c-81bf-4f75-9f06-3e7168eed74b",
   "metadata": {},
   "outputs": [
    {
     "data": {
      "text/plain": [
       "array([[ 4,  8, 16],\n",
       "       [18, 56,  8]])"
      ]
     },
     "execution_count": 28,
     "metadata": {},
     "output_type": "execute_result"
    }
   ],
   "source": [
    "a1+a2"
   ]
  },
  {
   "cell_type": "code",
   "execution_count": 29,
   "id": "1cd86e9a-2c08-4816-ad97-88be2ac6da27",
   "metadata": {},
   "outputs": [
    {
     "data": {
      "text/plain": [
       "array([[ -2,  -4, -10],\n",
       "       [-10, -46,   4]])"
      ]
     },
     "execution_count": 29,
     "metadata": {},
     "output_type": "execute_result"
    }
   ],
   "source": [
    "a1-a2"
   ]
  },
  {
   "cell_type": "code",
   "execution_count": 30,
   "id": "093c89a7-e198-4533-a698-68da9bb5abab",
   "metadata": {},
   "outputs": [
    {
     "data": {
      "text/plain": [
       "array([[0.33333333, 0.33333333, 0.23076923],\n",
       "       [0.28571429, 0.09803922, 3.        ]])"
      ]
     },
     "execution_count": 30,
     "metadata": {},
     "output_type": "execute_result"
    }
   ],
   "source": [
    "a1/a2"
   ]
  },
  {
   "cell_type": "code",
   "execution_count": 31,
   "id": "385b2910-8a4b-4892-b438-bc5a1d7cb8b5",
   "metadata": {},
   "outputs": [
    {
     "data": {
      "text/plain": [
       "array([[  3,  12,  39],\n",
       "       [ 56, 255,  12]])"
      ]
     },
     "execution_count": 31,
     "metadata": {},
     "output_type": "execute_result"
    }
   ],
   "source": [
    "a1*a2"
   ]
  },
  {
   "cell_type": "code",
   "execution_count": 32,
   "id": "ac3c408b-37be-44e5-8ce9-dfba70a82432",
   "metadata": {},
   "outputs": [
    {
     "data": {
      "text/plain": [
       "array([[1., 0., 0., 0., 0.],\n",
       "       [0., 1., 0., 0., 0.],\n",
       "       [0., 0., 1., 0., 0.],\n",
       "       [0., 0., 0., 1., 0.],\n",
       "       [0., 0., 0., 0., 1.]])"
      ]
     },
     "execution_count": 32,
     "metadata": {},
     "output_type": "execute_result"
    }
   ],
   "source": [
    "#Q8  . Use NumPy to create a 5x5 identity matrix, then extract its diagonal elements.\n",
    "#sol.\n",
    "\n",
    "id_mat=np.eye(5)\n",
    "id_mat\n"
   ]
  },
  {
   "cell_type": "code",
   "execution_count": 33,
   "id": "628cb5a1-5cba-4afb-96cf-d12ff1a7086f",
   "metadata": {},
   "outputs": [
    {
     "data": {
      "text/plain": [
       "array([1., 1., 1., 1., 1.])"
      ]
     },
     "execution_count": 33,
     "metadata": {},
     "output_type": "execute_result"
    }
   ],
   "source": [
    "np.diag(id_mat)"
   ]
  },
  {
   "cell_type": "code",
   "execution_count": 34,
   "id": "b3ea443f-fe42-4dc1-b633-d8967a9ccaf3",
   "metadata": {},
   "outputs": [
    {
     "data": {
      "text/plain": [
       "array([ 43, 229, 193, 149, 127, 997, 911, 859, 181, 557, 971,  79, 107,\n",
       "       491, 113, 149,   2, 383, 499, 907, 503])"
      ]
     },
     "execution_count": 34,
     "metadata": {},
     "output_type": "execute_result"
    }
   ],
   "source": [
    "#Q9  Generate a NumPy array of 100 random integers between 0 and 1000. Find and display all prime numbers in this array.\n",
    "# sol. \n",
    "def is_prime(n):\n",
    "    if n <= 1:\n",
    "        return False\n",
    "    for i in range(2, int(n**0.5) + 1):\n",
    "        if n % i == 0:\n",
    "            return False\n",
    "    return True\n",
    "\n",
    "arr5=np.random.randint(1,1000, 100)\n",
    "prime=np.array([num for num in arr5 if is_prime(num)])\n",
    "prime"
   ]
  },
  {
   "cell_type": "code",
   "execution_count": 35,
   "id": "beafadac-6475-443b-8067-e34bfc95c998",
   "metadata": {},
   "outputs": [
    {
     "data": {
      "text/plain": [
       "13.844976537503076"
      ]
     },
     "execution_count": 35,
     "metadata": {},
     "output_type": "execute_result"
    }
   ],
   "source": [
    "#Q10.  Create a NumPy array representing daily temperatures for a month. Calculate and display the weekly averagres\n",
    "#sol.\n",
    "\n",
    "daily_temp = np.random.uniform(0, 30, size=30)\n",
    "daily_temp\n",
    "\n",
    "weekly_temp=daily_temp.reshape(6,5)\n",
    "\n",
    "weekly_average=np.mean(weekly_temp)\n",
    "\n",
    "weekly_average"
   ]
  }
 ],
 "metadata": {
  "kernelspec": {
   "display_name": "Python 3 (ipykernel)",
   "language": "python",
   "name": "python3"
  },
  "language_info": {
   "codemirror_mode": {
    "name": "ipython",
    "version": 3
   },
   "file_extension": ".py",
   "mimetype": "text/x-python",
   "name": "python",
   "nbconvert_exporter": "python",
   "pygments_lexer": "ipython3",
   "version": "3.11.7"
  }
 },
 "nbformat": 4,
 "nbformat_minor": 5
}
