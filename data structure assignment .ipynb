{
 "cells": [
  {
   "cell_type": "code",
   "execution_count": 1,
   "id": "0ec8ab49-9132-4608-8e49-a12ff6d74dd0",
   "metadata": {},
   "outputs": [
    {
     "data": {
      "text/plain": [
       "'suomynona'"
      ]
     },
     "execution_count": 1,
     "metadata": {},
     "output_type": "execute_result"
    }
   ],
   "source": [
    "## 1. write a code to reverse a string\n",
    "\n",
    "#code \n",
    "\n",
    "stringg=\"anonymous\"\n",
    "stringg[::-1]"
   ]
  },
  {
   "cell_type": "code",
   "execution_count": 2,
   "id": "9b82f16e-a009-4f1c-a9e0-c7316579dc59",
   "metadata": {},
   "outputs": [
    {
     "name": "stdout",
     "output_type": "stream",
     "text": [
      "no of vowels  18\n"
     ]
    }
   ],
   "source": [
    "## 2. write a code to count the no of vowels in the string\n",
    "\n",
    "#code\n",
    "\n",
    "sample2=\"hello, today we are learning python programming language\"\n",
    "count_vowels=0\n",
    "\n",
    "for j in sample2:\n",
    "    if j == 'a' or j == 'e' or j == 'i' or j == 'o' or j == 'u':\n",
    "        count_vowels+=1\n",
    "\n",
    "print(\"no of vowels \", count_vowels)\n",
    "\n"
   ]
  },
  {
   "cell_type": "code",
   "execution_count": 3,
   "id": "fef526a8-40c9-469e-ad84-386074380518",
   "metadata": {},
   "outputs": [
    {
     "name": "stdin",
     "output_type": "stream",
     "text": [
      "enter a string rescue\n"
     ]
    },
    {
     "name": "stdout",
     "output_type": "stream",
     "text": [
      "series is not palendrome\n"
     ]
    }
   ],
   "source": [
    "## 3. write a code to check if a string is palendrome or not \n",
    "\n",
    "## code \n",
    "\n",
    "sample3 = input(\"enter a string\")\n",
    "s=sample3[::-1]\n",
    "if s == sample3:\n",
    "    print(\"the series is palendrome\")\n",
    "else:\n",
    "    print(\"series is not palendrome\")\n",
    "\n",
    "##conc: here s represents the reverse order of the string and since the s and sample3 both are same thus they are palendrome"
   ]
  },
  {
   "cell_type": "code",
   "execution_count": 6,
   "id": "addcbb49-c8d7-4b32-b09f-19b200209d67",
   "metadata": {},
   "outputs": [
    {
     "name": "stdout",
     "output_type": "stream",
     "text": [
      "anagram\n"
     ]
    }
   ],
   "source": [
    "## 4. write a code to check if two given strings are anagrams of each other \n",
    "\n",
    "##code \n",
    "\n",
    "str1= \"flow\"\n",
    "str2= \"woLf\"\n",
    "\n",
    "str1=str1.lower()\n",
    "str2=str2.lower()\n",
    "\n",
    "\n",
    "if len(str1) != len(str2):\n",
    "    print(\"non anagram\")\n",
    "if sorted(str1) != sorted(str2):\n",
    "    print(\"non anagram\")\n",
    "else :\n",
    "    print(\"anagram\")\n",
    "\n",
    "\n",
    "##conc: firstly we have converted both our string in lower case\n",
    "## to be anagram the two stirngs must have same no of elements and same characters which here is been ensured by a simple if statement "
   ]
  },
  {
   "cell_type": "code",
   "execution_count": null,
   "id": "6edafc9d-ee37-4dc9-bb28-7b68ad2f9b7c",
   "metadata": {},
   "outputs": [],
   "source": [
    "## 5 write a code in python to find all the occurrences of a given substring within another string\n",
    "\n",
    "#code\n",
    "\n",
    "main_string = input(\"Enter the main string: \")\n",
    "substring = input(\"Enter the substring to find: \")\n",
    "\n",
    "# Initialize a list to store the positions of occurrences\n",
    "positions = []\n",
    "start = 0\n",
    "while True:\n",
    "    \n",
    "    pos = main_string.find(substring, start)\n",
    "    \n",
    "    if pos == -1:\n",
    "        break\n",
    "    \n",
    "    positions.append(pos)\n",
    "    \n",
    "    start = pos + 1\n",
    "\n",
    "# Print the positions of the occurrences\n",
    "if positions:\n",
    "    print(f\"The substring '{substring}' is found at positions: {positions}\")\n",
    "else:\n",
    "    print(f\"The substring '{substring}' was not found.\")"
   ]
  },
  {
   "cell_type": "code",
   "execution_count": null,
   "id": "2aca5d1d-fa00-4df8-bb9f-c3a30229c7bf",
   "metadata": {},
   "outputs": [],
   "source": [
    "## 6. \n",
    "\n",
    "#code \n",
    "\n",
    "input_string = input(\"Enter a string: \")\n",
    "\n",
    "char_count = {}\n",
    "\n",
    "for char in input_string:\n",
    "    if char in char_count:\n",
    "        char_count[char] += 1\n",
    "    else:\n",
    "        char_count[char] = 1\n",
    "\n",
    "for char, count in char_count.items():\n",
    "    print(f\"'{char}' occurs {count} time(s)\")"
   ]
  },
  {
   "cell_type": "code",
   "execution_count": 7,
   "id": "ca556ea6-bd62-442d-b688-8efe9f7e6d12",
   "metadata": {},
   "outputs": [
    {
     "name": "stdout",
     "output_type": "stream",
     "text": [
      " characters are unique \n"
     ]
    }
   ],
   "source": [
    "## 7. write a code to determine a string has all unique characters\n",
    "\n",
    "## code \n",
    "\n",
    "sample4=\"asdfgh\"\n",
    "sam_set=set()\n",
    "unique=True\n",
    "\n",
    "for i in sample4:\n",
    "    if i in sam_set:\n",
    "        unique = False\n",
    "        break\n",
    "    sam_set.add(i)\n",
    "\n",
    "if unique:\n",
    "    print(\" characters are unique \")\n",
    "else:\n",
    "    print(\"characters are not unique\")\n",
    "\n",
    "\n",
    "##conc: since sam_set is a python set i.e, a set only contains all the unique elements , the for loop is ensuring all the characters in sample4 are unique"
   ]
  },
  {
   "cell_type": "code",
   "execution_count": 8,
   "id": "79de841c-85ca-4d69-b6aa-75bb0fca746b",
   "metadata": {},
   "outputs": [
    {
     "name": "stdout",
     "output_type": "stream",
     "text": [
      "random\n",
      "RANDOM\n"
     ]
    }
   ],
   "source": [
    "## 8. write a code to convert a string to uppercase or lowercase\n",
    "\n",
    "#code \n",
    "\n",
    "sample5=\"rAnDom\"\n",
    "print(sample5.lower())\n",
    "print(sample5.upper())\n",
    "\n"
   ]
  },
  {
   "cell_type": "code",
   "execution_count": 9,
   "id": "9bd0c0dc-1195-4d7f-815d-97fab7fcdef9",
   "metadata": {},
   "outputs": [
    {
     "name": "stdout",
     "output_type": "stream",
     "text": [
      "18\n"
     ]
    }
   ],
   "source": [
    "## 9. write a code to code to count the no of characters in the string\n",
    "\n",
    "#code \n",
    "\n",
    "sample6=\"kafka on the shore\"\n",
    "print(len(sample6))"
   ]
  },
  {
   "cell_type": "code",
   "execution_count": 10,
   "id": "f4e77bc3-f900-4b24-8c20-d36ee24bcedc",
   "metadata": {},
   "outputs": [
    {
     "name": "stdout",
     "output_type": "stream",
     "text": [
      "artificial intelligence and machine learning\n"
     ]
    }
   ],
   "source": [
    "## 10. write a code to concatinate two string without using + operator\n",
    "\n",
    "# code \n",
    "\n",
    "string1=\"artificial intelligence \"\n",
    "string2=\"and machine learning\"\n",
    "string1_2=f\"{string1}{string2}\"\n",
    "print(string1_2)"
   ]
  },
  {
   "cell_type": "code",
   "execution_count": 11,
   "id": "94cb1127-0d49-4bd9-8b94-2b9151de9311",
   "metadata": {},
   "outputs": [
    {
     "name": "stdout",
     "output_type": "stream",
     "text": [
      "[1, 2, 4, 7]\n"
     ]
    }
   ],
   "source": [
    "## 11. write a code to remove all the occurance of a specifice element from a list  \n",
    "\n",
    "#code\n",
    "\n",
    "l=[1,2,4,5,5,7,5,5]\n",
    "\n",
    "for i in l:\n",
    "    if (5 in l):\n",
    "        l.remove(5)\n",
    "print(l)\n",
    "\n"
   ]
  },
  {
   "cell_type": "code",
   "execution_count": 12,
   "id": "35a11413-ed04-497a-9c75-cee4c6ffec00",
   "metadata": {},
   "outputs": [
    {
     "name": "stdout",
     "output_type": "stream",
     "text": [
      "99\n"
     ]
    }
   ],
   "source": [
    "## 12. implement a code to find the second largest number in a given list of integers\n",
    "\n",
    "#code \n",
    "\n",
    "L=[10,23,45,4,120,20,99]\n",
    "\n",
    "sorted_list=L.sort()\n",
    "second_largest_element=L[-2]\n",
    "print(second_largest_element)\n",
    "\n",
    "#conc: we know that the second largest element would be found at the second last index of a sorted list \n"
   ]
  },
  {
   "cell_type": "code",
   "execution_count": 13,
   "id": "560bb71b-21b2-4e7b-818b-a4e4d0437607",
   "metadata": {},
   "outputs": [
    {
     "data": {
      "text/plain": [
       "[89, 34, 7, 5, 4, 12]"
      ]
     },
     "execution_count": 13,
     "metadata": {},
     "output_type": "execute_result"
    }
   ],
   "source": [
    "## 14. write a code to reversse a list in-place without any reverse built in function\n",
    "\n",
    "#code \n",
    "\n",
    "lis=[12,4,5,7,34,89]\n",
    "lis[::-1]"
   ]
  },
  {
   "cell_type": "code",
   "execution_count": 14,
   "id": "5a08dc4c-6d3a-4b9b-b8f9-e3a048d1db6f",
   "metadata": {},
   "outputs": [
    {
     "data": {
      "text/plain": [
       "{1, 2, 3, 4, 5, 6, 7, 8, 9}"
      ]
     },
     "execution_count": 14,
     "metadata": {},
     "output_type": "execute_result"
    }
   ],
   "source": [
    "## 15. implement a code to find and remove any duplicates from the list while preserving the original order of the elements\n",
    "\n",
    "## code\n",
    "\n",
    "lis=[1,2,2,3,4,5,5,6,7,8,8,9]\n",
    "set(lis)\n",
    "\n",
    "#conc: the above problem can be solved by simple type conversion to a set"
   ]
  },
  {
   "cell_type": "code",
   "execution_count": 15,
   "id": "c1023f21-4c70-4996-94a9-d7cee122cfb9",
   "metadata": {},
   "outputs": [
    {
     "name": "stdout",
     "output_type": "stream",
     "text": [
      "list is not sorted\n"
     ]
    }
   ],
   "source": [
    "## 16. create a code to check if a given list is sorted or not\n",
    "\n",
    "#code\n",
    "\n",
    "list=[1,2,5,4]\n",
    "sorted_list=True\n",
    "for i in range(0,len(list)-1):\n",
    "    if list[i]>=list[i+1]:\n",
    "        sorted_list=False\n",
    "        break\n",
    "if (sorted_list==True):\n",
    "    print(\"list is sorted\")\n",
    "else:\n",
    "    print(\"list is not sorted\")\n",
    "\n",
    "#conc: so initially we have used a variable named  sorted_list  as a boolean variable \n",
    "#then we have used a simple \"for loop\" to iterate over the elements of our list\n",
    "# in the loop we have given a condition that if our sorted_list gets false we instantly breaks the loop "
   ]
  },
  {
   "cell_type": "code",
   "execution_count": 16,
   "id": "e5afb195-c15d-41d5-b299-c93d31155ca5",
   "metadata": {},
   "outputs": [
    {
     "data": {
      "text/plain": [
       "[1, 2, 3, 4, 11, 12, 13, 14]"
      ]
     },
     "execution_count": 16,
     "metadata": {},
     "output_type": "execute_result"
    }
   ],
   "source": [
    "## 17. write a code to merge two sorted list into single sorted list\n",
    "\n",
    "#code\n",
    "\n",
    "list1=[1,2,3,4]\n",
    "list2=[11,12,13,14]\n",
    "\n",
    "list3=list1+list2\n",
    "list3\n",
    "\n",
    "#conc: we have just used a simple plus operator to concatinate two lists"
   ]
  },
  {
   "cell_type": "code",
   "execution_count": 17,
   "id": "736f6792-9a28-42d4-a992-ce33c79f6b9c",
   "metadata": {},
   "outputs": [
    {
     "name": "stdout",
     "output_type": "stream",
     "text": [
      "the intersection of two list are [4, 5, 6]\n"
     ]
    }
   ],
   "source": [
    "## 18. implement a code to find the intersection of two given list\n",
    "\n",
    "##code\n",
    "\n",
    "list1=[1,2,3,4,5,6]\n",
    "list2=[4,5,6,7,8,9]\n",
    "\n",
    "intersection=[]\n",
    "for i in list1:\n",
    "    for j in list2:\n",
    "        if i==j:\n",
    "            intersection.append(i)\n",
    "\n",
    "print(\"the intersection of two list are\",intersection)\n",
    "\n",
    "#conc: initially we have used two  lists(list1,list2) and an empty list(intersection) \n",
    "# in the for loop we have iterated over the two lists and passed one condition that if elements of list1 gets equals to elements of list 2,  append those elements to empty list \"intersection\" and then print intersection "
   ]
  },
  {
   "cell_type": "code",
   "execution_count": 18,
   "id": "748c767b-6512-4857-8792-15a0b512ab59",
   "metadata": {},
   "outputs": [
    {
     "name": "stdout",
     "output_type": "stream",
     "text": [
      "the union of two list are [1, 2, 3, 4, 5, 6, 7, 8, 9]\n"
     ]
    }
   ],
   "source": [
    "## 19. create a code to find union of two list without duplicates\n",
    "\n",
    "##code  \n",
    "\n",
    "list1=[1,2,3,4,5]\n",
    "list2=[5,6,7,8,9]\n",
    "\n",
    "union=[]\n",
    "\n",
    "for i in list1:\n",
    "    union.append(i)\n",
    "for j in list2:\n",
    "    if j not in union:\n",
    "        union.append(j)\n",
    "\n",
    "print(\"the union of two list are\", union)\n",
    "\n",
    "#conc: initially we have used two  lists(list1,list2) and an empty list (union)\n",
    "#in the for loop we have iterated over the two lists and passed one condition that append all elements of list1 to union and\n",
    "#elements that are not present in union  append those elements from list 2  "
   ]
  },
  {
   "cell_type": "code",
   "execution_count": 19,
   "id": "a4840db4-c05d-4467-b13d-084ed2b9e289",
   "metadata": {},
   "outputs": [
    {
     "name": "stdout",
     "output_type": "stream",
     "text": [
      "Shuffled list: [3, 7, 5, 8, 2, 6, 4, 9, 1]\n"
     ]
    }
   ],
   "source": [
    "## 20. write a code to shuffle a given list randomly without using any built-in function random\n",
    "\n",
    "#code\n",
    "\n",
    "\n",
    "import random\n",
    "\n",
    "lst = [1,2,3,4,5,6,7,8,9]\n",
    "\n",
    "\n",
    "length = len(lst)\n",
    "for i in range(length):\n",
    "    j = random.randint(0, length - 1)\n",
    "    \n",
    "    lst[i], lst[j] = lst[j],  lst[i]\n",
    "\n",
    "print(\"Shuffled list:\", lst)\n",
    "\n",
    "#conc: we have imported a random module and with a simple for loop and a random module  function , we shuffled our list "
   ]
  },
  {
   "cell_type": "code",
   "execution_count": 20,
   "id": "141f047a-cc7d-47d5-8065-c37c9e7fc686",
   "metadata": {},
   "outputs": [
    {
     "name": "stdout",
     "output_type": "stream",
     "text": [
      "(4, 5, 6)\n"
     ]
    }
   ],
   "source": [
    "## 21. write a code that take two tuples as input and returns a new tuple that contains all the common elements of both the tuple\n",
    "\n",
    "## code\n",
    "\n",
    "t1=(1,2,3,4,5,6)\n",
    "t2=(4,5,6,7,8,9)\n",
    "\n",
    "lis=[]\n",
    "\n",
    "for i in t1:\n",
    "    for j in t2:\n",
    "        if i==j:\n",
    "            lis.append(i)\n",
    "            t3=tuple(lis)\n",
    "print(t3)\n",
    "\n",
    "#conc: since there is no append method in tuples , we have first stored the elements into a list and then with the help of type \n",
    "# conversion , we converted this list into tuple"
   ]
  },
  {
   "cell_type": "code",
   "execution_count": 21,
   "id": "854c42c9-a81a-4843-a251-30b46a6b106b",
   "metadata": {},
   "outputs": [
    {
     "name": "stdin",
     "output_type": "stream",
     "text": [
      "enter comma seperated integers 1,2,3\n",
      "enter comma seperated integers 2,3,4\n"
     ]
    },
    {
     "name": "stdout",
     "output_type": "stream",
     "text": [
      "2\n",
      ",\n",
      "3\n"
     ]
    }
   ],
   "source": [
    "## 22. create a code that promotes user to enter two sets of integers seperated by commas.then print the intersection of the two sets\n",
    "\n",
    "## code\n",
    "\n",
    "s1=set(input(\"enter comma seperated integers\"))\n",
    "s2=set(input(\"enter comma seperated integers\"))\n",
    "\n",
    "for i in s1:\n",
    "    for j in s2:\n",
    "        if (i==j):\n",
    "            print(i)\n"
   ]
  },
  {
   "cell_type": "code",
   "execution_count": 22,
   "id": "463e0ebe-ae42-46e0-b99d-ce159e957165",
   "metadata": {},
   "outputs": [
    {
     "data": {
      "text/plain": [
       "(1, 2, 3, 4, 5, 6)"
      ]
     },
     "execution_count": 22,
     "metadata": {},
     "output_type": "execute_result"
    }
   ],
   "source": [
    "## 23. write a code to concatinate two tuples.The function should take the two tuples as input and returns a new tuple with the inputs\n",
    "\n",
    "## code\n",
    "\n",
    "t3=()\n",
    "def ret_tup(t1,t2):\n",
    "    t3=t1+t2\n",
    "    return t3\n",
    "\n",
    "ret_tup((1,2,3),(4,5,6))\n",
    "\n",
    "#conc:-used an empty tuple to store the vales,- simple 'ret_tup' function that takes 2 tuples a input an returns a 3rd tuple as output "
   ]
  },
  {
   "cell_type": "code",
   "execution_count": 29,
   "id": "278606de-b779-4a94-8f44-6c393d5bdb4a",
   "metadata": {},
   "outputs": [
    {
     "name": "stdin",
     "output_type": "stream",
     "text": [
      "enter strings a b c\n",
      "enter strings c\n"
     ]
    },
    {
     "name": "stdout",
     "output_type": "stream",
     "text": [
      "{' ', 'b', 'a'}\n"
     ]
    }
   ],
   "source": [
    "## 24.Develop a code that promotes user to enter two sets of string.then print the elements that are present in first set but 2nd set\n",
    "\n",
    "#code\n",
    "\n",
    "s1=set(input(\"enter strings\"))\n",
    "s2=set(input(\"enter strings\"))\n",
    "\n",
    "s= s1-s2\n",
    "print(s)\n"
   ]
  },
  {
   "cell_type": "code",
   "execution_count": 42,
   "id": "8ac7bc0c-6bf7-4e6a-8bb2-5a022d391424",
   "metadata": {},
   "outputs": [
    {
     "name": "stdin",
     "output_type": "stream",
     "text": [
      "enter tuple values 1,4,7,9\n",
      "enter lower range 2\n",
      "enter upper range 5\n"
     ]
    },
    {
     "name": "stdout",
     "output_type": "stream",
     "text": [
      "('4', ',', '7')\n"
     ]
    }
   ],
   "source": [
    "## 25. create a code that take a tuple and two integers as input. the function must return a new tuple containing elements from \n",
    "#original tuple within the specific range of indices \n",
    "\n",
    "#code\n",
    "\n",
    "def sliced_tup(t1,int1,int2):\n",
    "    return t1[int1:int2]\n",
    "\n",
    "t1=tuple(input(\"enter tuple values\"))\n",
    "int1= int(input(\"enter lower range\"))\n",
    "int2= int(input(\"enter upper range\"))\n",
    "\n",
    "new_tup=sliced_tup(t1,int1,int2)\n",
    "print(new_tup)\n",
    "\n",
    "#conc: "
   ]
  },
  {
   "cell_type": "code",
   "execution_count": null,
   "id": "9916d72f-55cb-470c-9bd3-34d7e1aef54d",
   "metadata": {},
   "outputs": [],
   "source": [
    "## 26 write a code that promotes user to input two sets of characters and prints their union . write the code without using function\n",
    "\n",
    "set1 = set(input(\"Enter the first set of characters (no spaces, e.g., 'abc'): \"))\n",
    "set2 = set(input(\"Enter the second set of characters (no spaces, e.g., 'bcd'): \"))\n",
    "\n",
    "union_set = set1 | set2\n",
    "\n",
    "print(\"The union of the two sets is:\", ''.join(sorted(union_set)))"
   ]
  },
  {
   "cell_type": "code",
   "execution_count": null,
   "id": "a1e30aa3-f5a3-4d7e-8af6-53a54a09f4f5",
   "metadata": {},
   "outputs": [],
   "source": []
  },
  {
   "cell_type": "code",
   "execution_count": null,
   "id": "5b8f2e78-9d0b-40e7-8939-58b9c4bca40d",
   "metadata": {},
   "outputs": [],
   "source": []
  },
  {
   "cell_type": "code",
   "execution_count": null,
   "id": "4dd87b0a-ce54-4507-86a5-03990681a7d8",
   "metadata": {},
   "outputs": [],
   "source": []
  },
  {
   "cell_type": "code",
   "execution_count": null,
   "id": "e69ca4df-cb42-4d28-95a4-b1d4dd368040",
   "metadata": {},
   "outputs": [],
   "source": []
  }
 ],
 "metadata": {
  "kernelspec": {
   "display_name": "Python 3 (ipykernel)",
   "language": "python",
   "name": "python3"
  },
  "language_info": {
   "codemirror_mode": {
    "name": "ipython",
    "version": 3
   },
   "file_extension": ".py",
   "mimetype": "text/x-python",
   "name": "python",
   "nbconvert_exporter": "python",
   "pygments_lexer": "ipython3",
   "version": "3.11.7"
  }
 },
 "nbformat": 4,
 "nbformat_minor": 5
}
